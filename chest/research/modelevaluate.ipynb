{
 "cells": [
  {
   "cell_type": "code",
   "execution_count": null,
   "metadata": {},
   "outputs": [],
   "source": [
    "MLFLOW_TRACKING_URI=https://dagshub.com/KIMUTAICHELANGA/chest.mlflow \\\n",
    "MLFLOW_TRACKING_USERNAME=KIMUTAICHELANGA \\\n",
    "MLFLOW_TRACKING_PASSWORD=01923663866657fc4f0a9e5b8a29ae7bf30f1a1d \\\n",
    "python script.py"
   ]
  }
 ],
 "metadata": {
  "language_info": {
   "name": "python"
  }
 },
 "nbformat": 4,
 "nbformat_minor": 2
}
